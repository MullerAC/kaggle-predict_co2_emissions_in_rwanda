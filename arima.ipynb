{
 "cells": [
  {
   "cell_type": "code",
   "execution_count": 1,
   "id": "a488c881-4690-4481-bf00-4061b528b058",
   "metadata": {},
   "outputs": [],
   "source": [
    "# imports\n",
    "import pandas as pd\n",
    "from statsmodels.tsa.statespace.sarimax import SARIMAX"
   ]
  },
  {
   "cell_type": "code",
   "execution_count": 2,
   "id": "a5636eb4-b278-456d-8c8a-7568b86c4c9b",
   "metadata": {
    "scrolled": true
   },
   "outputs": [],
   "source": [
    "# read data\n",
    "dtype = {'ID_LAT_LON_YEAR_WEEK':'string',\n",
    "         'latitude': 'string',\n",
    "         'longitude': 'string',\n",
    "         'year': 'int',\n",
    "         'week_no': 'int',\n",
    "         'emission': 'float'}\n",
    "df = pd.read_csv('files/train.csv', dtype=dtype)\n",
    "# df"
   ]
  },
  {
   "cell_type": "code",
   "execution_count": 3,
   "id": "7887a60e-cb47-4454-8876-c2aa730628f2",
   "metadata": {},
   "outputs": [],
   "source": [
    "# prepare data\n",
    "df = df[['ID_LAT_LON_YEAR_WEEK', 'year', 'week_no', 'emission']]\n",
    "df['id'] = df['ID_LAT_LON_YEAR_WEEK'].str[:16]\n",
    "day_of_week = {2019:2, 2020:3, 2021:5, 2022:6, 2023:0}\n",
    "df.loc[:, 'day_of_week'] = df['year'].map(day_of_week)\n",
    "df.loc[:, 'date'] = df['year'].astype('string') + '-' + df['week_no'].astype('string') + '-' + df['day_of_week'].astype('string')\n",
    "df.loc[:, 'date'] = pd.to_datetime(df['date'], format='%Y-%W-%w')\n",
    "df = df[['id', 'date', 'emission']]\n",
    "# df"
   ]
  },
  {
   "cell_type": "code",
   "execution_count": 4,
   "id": "3762f439-c7d1-4efe-8484-3a816adbaf1c",
   "metadata": {},
   "outputs": [],
   "source": [
    "# function to create model and forecast\n",
    "def arima(data, endog_name='emission', steps=49):\n",
    "    arima = SARIMAX(endog = df_id.loc[:, endog_name].values,\n",
    "                    order = (1, 0, 0),\n",
    "                    dates = df_id.index.values,\n",
    "                    freq = 'W')\n",
    "    arima = arima.fit(full_output = False,\n",
    "                      disp = False)\n",
    "    return arima.forecast(steps=steps)"
   ]
  },
  {
   "cell_type": "code",
   "execution_count": 5,
   "id": "5cebdd13-eaef-4caf-96d1-125ba20ff0fa",
   "metadata": {},
   "outputs": [
    {
     "name": "stdout",
     "output_type": "stream",
     "text": [
      "CPU times: total: 20.7 s\n",
      "Wall time: 20.7 s\n"
     ]
    }
   ],
   "source": [
    "%%time\n",
    "# run arima function for every location\n",
    "\n",
    "groups = df.groupby('id')\n",
    "results = {}\n",
    "\n",
    "for name, group in groups:\n",
    "    df_id = group.drop(columns='id').set_index('date', drop=True).resample('W').nearest()\n",
    "    results[name] = arima(df_id)\n",
    "df_results = pd.DataFrame(results).T.reset_index()\n",
    "# df_results"
   ]
  },
  {
   "cell_type": "code",
   "execution_count": 6,
   "id": "92a36c21-60b6-40c9-9bda-dd1480a78f64",
   "metadata": {},
   "outputs": [
    {
     "data": {
      "text/html": [
       "<div>\n",
       "<style scoped>\n",
       "    .dataframe tbody tr th:only-of-type {\n",
       "        vertical-align: middle;\n",
       "    }\n",
       "\n",
       "    .dataframe tbody tr th {\n",
       "        vertical-align: top;\n",
       "    }\n",
       "\n",
       "    .dataframe thead th {\n",
       "        text-align: right;\n",
       "    }\n",
       "</style>\n",
       "<table border=\"1\" class=\"dataframe\">\n",
       "  <thead>\n",
       "    <tr style=\"text-align: right;\">\n",
       "      <th></th>\n",
       "      <th>ID_LAT_LON_YEAR_WEEK</th>\n",
       "      <th>emission</th>\n",
       "    </tr>\n",
       "  </thead>\n",
       "  <tbody>\n",
       "    <tr>\n",
       "      <th>0</th>\n",
       "      <td>ID_-0.510_29.290_2022_00</td>\n",
       "      <td>4.266863</td>\n",
       "    </tr>\n",
       "    <tr>\n",
       "      <th>1</th>\n",
       "      <td>ID_-0.510_29.290_2022_01</td>\n",
       "      <td>4.264218</td>\n",
       "    </tr>\n",
       "    <tr>\n",
       "      <th>2</th>\n",
       "      <td>ID_-0.510_29.290_2022_02</td>\n",
       "      <td>4.261574</td>\n",
       "    </tr>\n",
       "    <tr>\n",
       "      <th>3</th>\n",
       "      <td>ID_-0.510_29.290_2022_03</td>\n",
       "      <td>4.258932</td>\n",
       "    </tr>\n",
       "    <tr>\n",
       "      <th>4</th>\n",
       "      <td>ID_-0.510_29.290_2022_04</td>\n",
       "      <td>4.256292</td>\n",
       "    </tr>\n",
       "    <tr>\n",
       "      <th>...</th>\n",
       "      <td>...</td>\n",
       "      <td>...</td>\n",
       "    </tr>\n",
       "    <tr>\n",
       "      <th>24348</th>\n",
       "      <td>ID_-3.299_30.301_2022_44</td>\n",
       "      <td>25.822472</td>\n",
       "    </tr>\n",
       "    <tr>\n",
       "      <th>24349</th>\n",
       "      <td>ID_-3.299_30.301_2022_45</td>\n",
       "      <td>25.791839</td>\n",
       "    </tr>\n",
       "    <tr>\n",
       "      <th>24350</th>\n",
       "      <td>ID_-3.299_30.301_2022_46</td>\n",
       "      <td>25.761242</td>\n",
       "    </tr>\n",
       "    <tr>\n",
       "      <th>24351</th>\n",
       "      <td>ID_-3.299_30.301_2022_47</td>\n",
       "      <td>25.730681</td>\n",
       "    </tr>\n",
       "    <tr>\n",
       "      <th>24352</th>\n",
       "      <td>ID_-3.299_30.301_2022_48</td>\n",
       "      <td>25.700156</td>\n",
       "    </tr>\n",
       "  </tbody>\n",
       "</table>\n",
       "<p>24353 rows × 2 columns</p>\n",
       "</div>"
      ],
      "text/plain": [
       "           ID_LAT_LON_YEAR_WEEK   emission\n",
       "0      ID_-0.510_29.290_2022_00   4.266863\n",
       "1      ID_-0.510_29.290_2022_01   4.264218\n",
       "2      ID_-0.510_29.290_2022_02   4.261574\n",
       "3      ID_-0.510_29.290_2022_03   4.258932\n",
       "4      ID_-0.510_29.290_2022_04   4.256292\n",
       "...                         ...        ...\n",
       "24348  ID_-3.299_30.301_2022_44  25.822472\n",
       "24349  ID_-3.299_30.301_2022_45  25.791839\n",
       "24350  ID_-3.299_30.301_2022_46  25.761242\n",
       "24351  ID_-3.299_30.301_2022_47  25.730681\n",
       "24352  ID_-3.299_30.301_2022_48  25.700156\n",
       "\n",
       "[24353 rows x 2 columns]"
      ]
     },
     "execution_count": 6,
     "metadata": {},
     "output_type": "execute_result"
    }
   ],
   "source": [
    "# format output\n",
    "df_results = df_results.melt(id_vars=['index'], value_vars=range(49))\n",
    "df_results['id'] = df_results['index'] + '_2022_' + df_results['variable'].astype('string').str.zfill(2)\n",
    "df_results = df_results[['id', 'value']]\n",
    "df_results = df_results.sort_values('id').reset_index(drop=True)\n",
    "df_results.columns = ['ID_LAT_LON_YEAR_WEEK', 'emission']\n",
    "df_results"
   ]
  },
  {
   "cell_type": "code",
   "execution_count": 7,
   "id": "fd7872f1-8933-493a-8673-22f026f8d118",
   "metadata": {
    "scrolled": true
   },
   "outputs": [],
   "source": [
    "# save output to csv\n",
    "df_results.to_csv('output/arima.csv', index=False)"
   ]
  },
  {
   "cell_type": "code",
   "execution_count": null,
   "id": "e0e838f2-d049-49b8-9e04-f388b5633e80",
   "metadata": {},
   "outputs": [],
   "source": []
  }
 ],
 "metadata": {
  "kernelspec": {
   "display_name": "Python 3 (ipykernel)",
   "language": "python",
   "name": "python3"
  },
  "language_info": {
   "codemirror_mode": {
    "name": "ipython",
    "version": 3
   },
   "file_extension": ".py",
   "mimetype": "text/x-python",
   "name": "python",
   "nbconvert_exporter": "python",
   "pygments_lexer": "ipython3",
   "version": "3.11.4"
  }
 },
 "nbformat": 4,
 "nbformat_minor": 5
}
